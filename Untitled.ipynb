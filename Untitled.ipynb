{
 "cells": [
  {
   "cell_type": "markdown",
   "metadata": {},
   "source": [
    "Before we move into coding, we'll need to do some background research. A thorough understanding of the data will help us avoid costly mistakes, such as thinking that a column represents something other than what it does. Background research will also give us a better understanding of how to combine and analyze the data.\n",
    "\n",
    "In this case, we'll want to research:\n",
    "\n",
    "New York City\n",
    "The SAT\n",
    "Schools in New York City\n",
    "Our data\n",
    "We can learn a few different things from these resources. For example:\n",
    "\n",
    "Only high school students take the SAT, so we'll want to focus on high schools.\n",
    "New York City is made up of five boroughs, which are essentially distinct regions.\n",
    "New York City schools fall within several different school districts, each of which can contains dozens of schools.\n",
    "Our data sets include several different types of schools. We'll need to clean them so that we can focus on high schools only.\n",
    "Each school in New York City has a unique code called a DBN, or district borough number.\n",
    "Aggregating data by district will allow us to use the district mapping data to plot district-by-district differences."
   ]
  },
  {
   "cell_type": "code",
   "execution_count": null,
   "metadata": {},
   "outputs": [],
   "source": []
  }
 ],
 "metadata": {
  "kernelspec": {
   "display_name": "Python 3",
   "language": "python",
   "name": "python3"
  },
  "language_info": {
   "codemirror_mode": {
    "name": "ipython",
    "version": 3
   },
   "file_extension": ".py",
   "mimetype": "text/x-python",
   "name": "python",
   "nbconvert_exporter": "python",
   "pygments_lexer": "ipython3",
   "version": "3.7.1"
  }
 },
 "nbformat": 4,
 "nbformat_minor": 2
}
